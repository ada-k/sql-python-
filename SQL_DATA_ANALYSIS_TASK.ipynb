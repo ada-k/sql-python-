{
 "cells": [
  {
   "cell_type": "markdown",
   "metadata": {},
   "source": [
    "# SQL DATA ANALYSIS TASK"
   ]
  },
  {
   "cell_type": "markdown",
   "metadata": {},
   "source": [
    "# Context\n",
    "Fenix is a company that is in renewable energy. To this end, it sells solar kits to populations who are in need. Customers have the option of paying for the kit in cash or on credit. If the customer chooses to buy on credit, he can choose between one year (360 days) or two years (720). He is then asked to pay an amount per day (daily_rate), this amount depending on the duration of the loan and the type of kit he has chosen and corresponds to a day of light. So every time he pays that amount, he has a day of light. After 24 hours the system hangs and it has to make another payment to take advantage of the light. He can decide to pay for more than one day of light. The day number is then the whole part of the amount / daily rate ratio. After this number of days, the system still locks. When a customer spends more than 30 days without light, he is considered inactive. Paid vs Expected (PvE) means the ratio between the total amount paid by the client and the amount he should have paid up to date. It allows to appreciate the recovery."
   ]
  },
  {
   "cell_type": "markdown",
   "metadata": {},
   "source": [
    "Let's consider the following tables\n",
    "\n",
    "Loan_current_daitails\n",
    "\n",
    "loan_id\t|customer_id|daily_rate|days_elapsed|Days_til_lock_out|Total_paid\n",
    "--------|-----------|----------|------------|-----------------|----------\n",
    "loan_id_1|customer_id_1|daily_rate_1|days_elapsed_1|Days_til_lock_out_1|Total_paid_1\n",
    "loan_id_2|customer_id_2|daily_rate_2|days_elapsed_2|Days_til_lock_out_2|Total_paid_2\n",
    ".........|.............|............|..............|...................|............\n",
    "loan_id_n|customer_id_n\t|daily_rate_n|days_elapsed_n|Days_til_lock_out_n|Total_paid_n\n",
    "\n",
    "\n",
    "Person_democraphic\n",
    "\n",
    "customer_id\t|country|\tregion|\tprofession\n",
    "------------|-------|---------|-----------\n",
    "customer_id_1|\tCountry_1\t|Region_1\t|profession_1\n",
    ".............|\t............|..........\t|............\n",
    "customer_id_j|\tCountry_j|\tRegion_j\t|profession_j\n",
    "\n",
    "\n",
    "Sales_details\n",
    "\n",
    "loan_id\t|Product_type\t|Date_fullfiled\t|loan_duration\n",
    "--------|----------------|--------------|-------------\n",
    "loan_id_1\t|Product_type_1\t|Date_fullfiled_1\t|loan_duration_1\n",
    "...|\t...\t|...\t|...\n",
    "loan_id_n|\tProduct_type_n|\tDate_fullfiled_n|\tloan_duration_n"
   ]
  },
  {
   "cell_type": "markdown",
   "metadata": {},
   "source": [
    "### Tables description\n",
    "\n",
    "* **Loan_id:** unique loan identifier\n",
    "\n",
    "* **Customer_id:** unique customer identifier\n",
    "\n",
    "* **Days_elapsed:** the number of days the client spends with us\n",
    "\n",
    "* **Daily_rate:** expected amount from customer per day\n",
    "\n",
    "* **Days_til_lock_out:** If positive, then corresponds to the number of days of light remaining before the system hangs. If negative, corresponds to the number of days since the system was blocked (the client has been without light since this number of days)\n",
    "\n",
    "* **Total_paid:** total amount to be paid by the customer\n",
    "\n",
    "* **Country:** Customer's country\n",
    "\n",
    "* **Region:** customer department\n",
    "\n",
    "* **Profession:** client's profession\n",
    "\n",
    "* **Product_type:** the type of kit purchased by the customer\n",
    "\n",
    "* **Loan_duration:** the duration of the customer's loan (360 or 720 days)\n",
    "\n",
    "* **Date_fullfiled:** the date of the sale"
   ]
  },
  {
   "cell_type": "markdown",
   "metadata": {},
   "source": [
    "### The datasets\n",
    "The datasets exist in csv formats and can be downloaded and saved on disk"
   ]
  },
  {
   "cell_type": "code",
   "execution_count": 32,
   "metadata": {},
   "outputs": [
    {
     "name": "stdout",
     "output_type": "stream",
     "text": [
      "Requirement already satisfied: ipython-sql in /home/ada/anaconda3/lib/python3.7/site-packages (0.4.0)\n",
      "Requirement already satisfied: ipython-genutils>=0.1.0 in /home/ada/anaconda3/lib/python3.7/site-packages (from ipython-sql) (0.2.0)\n",
      "Requirement already satisfied: sqlalchemy>=0.6.7 in /home/ada/anaconda3/lib/python3.7/site-packages (from ipython-sql) (1.3.9)\n",
      "Requirement already satisfied: six in /home/ada/anaconda3/lib/python3.7/site-packages (from ipython-sql) (1.12.0)\n",
      "Requirement already satisfied: sqlparse in /home/ada/anaconda3/lib/python3.7/site-packages (from ipython-sql) (0.3.1)\n",
      "Requirement already satisfied: ipython>=1.0 in /home/ada/anaconda3/lib/python3.7/site-packages (from ipython-sql) (7.8.0)\n",
      "Requirement already satisfied: prettytable<1 in /home/ada/anaconda3/lib/python3.7/site-packages (from ipython-sql) (0.7.2)\n",
      "Requirement already satisfied: traitlets>=4.2 in /home/ada/anaconda3/lib/python3.7/site-packages (from ipython>=1.0->ipython-sql) (4.3.3)\n",
      "Requirement already satisfied: setuptools>=18.5 in /home/ada/anaconda3/lib/python3.7/site-packages (from ipython>=1.0->ipython-sql) (41.4.0)\n",
      "Requirement already satisfied: prompt-toolkit<2.1.0,>=2.0.0 in /home/ada/anaconda3/lib/python3.7/site-packages (from ipython>=1.0->ipython-sql) (2.0.10)\n",
      "Requirement already satisfied: jedi>=0.10 in /home/ada/anaconda3/lib/python3.7/site-packages (from ipython>=1.0->ipython-sql) (0.15.1)\n",
      "Requirement already satisfied: pexpect; sys_platform != \"win32\" in /home/ada/anaconda3/lib/python3.7/site-packages (from ipython>=1.0->ipython-sql) (4.7.0)\n",
      "Requirement already satisfied: pygments in /home/ada/anaconda3/lib/python3.7/site-packages (from ipython>=1.0->ipython-sql) (2.4.2)\n",
      "Requirement already satisfied: decorator in /home/ada/anaconda3/lib/python3.7/site-packages (from ipython>=1.0->ipython-sql) (4.4.0)\n",
      "Requirement already satisfied: backcall in /home/ada/anaconda3/lib/python3.7/site-packages (from ipython>=1.0->ipython-sql) (0.1.0)\n",
      "Requirement already satisfied: pickleshare in /home/ada/anaconda3/lib/python3.7/site-packages (from ipython>=1.0->ipython-sql) (0.7.5)\n",
      "Requirement already satisfied: wcwidth in /home/ada/anaconda3/lib/python3.7/site-packages (from prompt-toolkit<2.1.0,>=2.0.0->ipython>=1.0->ipython-sql) (0.1.7)\n",
      "Requirement already satisfied: parso>=0.5.0 in /home/ada/anaconda3/lib/python3.7/site-packages (from jedi>=0.10->ipython>=1.0->ipython-sql) (0.5.1)\n",
      "Requirement already satisfied: ptyprocess>=0.5 in /home/ada/anaconda3/lib/python3.7/site-packages (from pexpect; sys_platform != \"win32\"->ipython>=1.0->ipython-sql) (0.6.0)\n"
     ]
    }
   ],
   "source": [
    "!pip install ipython-sql"
   ]
  },
  {
   "cell_type": "code",
   "execution_count": 33,
   "metadata": {},
   "outputs": [
    {
     "name": "stdout",
     "output_type": "stream",
     "text": [
      "The sql extension is already loaded. To reload it, use:\n",
      "  %reload_ext sql\n"
     ]
    }
   ],
   "source": [
    "import sql\n",
    "\n",
    "%load_ext sql\n",
    "%sql sqlite:///testdb.sqlite"
   ]
  },
  {
   "cell_type": "code",
   "execution_count": 34,
   "metadata": {},
   "outputs": [
    {
     "name": "stdout",
     "output_type": "stream",
     "text": [
      " * sqlite:///testdb.sqlite\n",
      "Done.\n",
      "Done.\n",
      "Done.\n"
     ]
    },
    {
     "data": {
      "text/plain": [
       "[]"
      ]
     },
     "execution_count": 34,
     "metadata": {},
     "output_type": "execute_result"
    }
   ],
   "source": [
    "%%sql\n",
    "DROP TABLE IF EXISTS Loan_current_daitails;\n",
    "DROP TABLE IF EXISTS Person_democraphic;\n",
    "DROP TABLE IF EXISTS Sales_details;"
   ]
  },
  {
   "cell_type": "code",
   "execution_count": 35,
   "metadata": {},
   "outputs": [],
   "source": [
    "import pandas as pd\n",
    "import sqlite3\n",
    "\n",
    "conn = sqlite3.connect(\"testdb.sqlite\")\n",
    "loans = pd.read_csv('Loan_current_daitails.csv')\n",
    "persons = pd.read_csv('Person_democraphic.csv')\n",
    "sales = pd.read_csv('Sales_details.csv')\n",
    "\n",
    "loans.to_sql(\"loans\", conn, index=False, if_exists=\"replace\")\n",
    "persons.to_sql(\"persons\", conn, index=False, if_exists=\"replace\")\n",
    "sales.to_sql(\"sales\", conn, index=False, if_exists=\"replace\")"
   ]
  },
  {
   "cell_type": "code",
   "execution_count": 36,
   "metadata": {},
   "outputs": [
    {
     "name": "stdout",
     "output_type": "stream",
     "text": [
      " * sqlite:///testdb.sqlite\n",
      "Done.\n"
     ]
    },
    {
     "data": {
      "text/html": [
       "<table>\n",
       "    <tr>\n",
       "        <th>customer_id</th>\n",
       "        <th>country</th>\n",
       "        <th>region</th>\n",
       "        <th>occupation</th>\n",
       "    </tr>\n",
       "    <tr>\n",
       "        <td>1351176</td>\n",
       "        <td>Benin</td>\n",
       "        <td>Oueme</td>\n",
       "        <td>Tehnician</td>\n",
       "    </tr>\n",
       "    <tr>\n",
       "        <td>1344957</td>\n",
       "        <td>Benin</td>\n",
       "        <td>Alibori</td>\n",
       "        <td>Doctor</td>\n",
       "    </tr>\n",
       "    <tr>\n",
       "        <td>1794153</td>\n",
       "        <td>Benin</td>\n",
       "        <td>Oueme</td>\n",
       "        <td>Teacher</td>\n",
       "    </tr>\n",
       "    <tr>\n",
       "        <td>1291070</td>\n",
       "        <td>Benin</td>\n",
       "        <td>Atlantique</td>\n",
       "        <td>Tehnician</td>\n",
       "    </tr>\n",
       "    <tr>\n",
       "        <td>1827368</td>\n",
       "        <td>Benin</td>\n",
       "        <td>Oueme</td>\n",
       "        <td>Cmmercial</td>\n",
       "    </tr>\n",
       "</table>"
      ],
      "text/plain": [
       "[(1351176, 'Benin', 'Oueme', 'Tehnician'),\n",
       " (1344957, 'Benin', 'Alibori', 'Doctor'),\n",
       " (1794153, 'Benin', 'Oueme', 'Teacher'),\n",
       " (1291070, 'Benin', 'Atlantique', 'Tehnician'),\n",
       " (1827368, 'Benin', 'Oueme', 'Cmmercial')]"
      ]
     },
     "execution_count": 36,
     "metadata": {},
     "output_type": "execute_result"
    }
   ],
   "source": [
    "%%sql\n",
    "\n",
    "select * from persons limit 5"
   ]
  },
  {
   "cell_type": "code",
   "execution_count": 37,
   "metadata": {},
   "outputs": [
    {
     "name": "stdout",
     "output_type": "stream",
     "text": [
      " * sqlite:///testdb.sqlite\n",
      "Done.\n"
     ]
    },
    {
     "data": {
      "text/html": [
       "<table>\n",
       "    <tr>\n",
       "        <th>loan_id</th>\n",
       "        <th>product_type</th>\n",
       "        <th>date_fulfilled_utc</th>\n",
       "        <th>Unnamed: 3</th>\n",
       "        <th>Unnamed: 4</th>\n",
       "        <th>Unnamed: 5</th>\n",
       "        <th>Unnamed: 6</th>\n",
       "    </tr>\n",
       "    <tr>\n",
       "        <td>589556</td>\n",
       "        <td>Fenix 3</td>\n",
       "        <td>6/5/19 10:45</td>\n",
       "        <td>None</td>\n",
       "        <td>None</td>\n",
       "        <td>None</td>\n",
       "        <td>None</td>\n",
       "    </tr>\n",
       "    <tr>\n",
       "        <td>586196</td>\n",
       "        <td>Fenix 3</td>\n",
       "        <td>6/2/19 11:11</td>\n",
       "        <td>None</td>\n",
       "        <td>None</td>\n",
       "        <td>None</td>\n",
       "        <td>None</td>\n",
       "    </tr>\n",
       "    <tr>\n",
       "        <td>797091</td>\n",
       "        <td>Fenix 2</td>\n",
       "        <td>11/23/19 17:36</td>\n",
       "        <td>None</td>\n",
       "        <td>None</td>\n",
       "        <td>None</td>\n",
       "        <td>None</td>\n",
       "    </tr>\n",
       "    <tr>\n",
       "        <td>552403</td>\n",
       "        <td>Fenix Radio +3</td>\n",
       "        <td>5/12/19 10:20</td>\n",
       "        <td>None</td>\n",
       "        <td>None</td>\n",
       "        <td>None</td>\n",
       "        <td>None</td>\n",
       "    </tr>\n",
       "    <tr>\n",
       "        <td>812210</td>\n",
       "        <td>Fenix Power 4 + Woofer BJ</td>\n",
       "        <td>12/4/19 10:53</td>\n",
       "        <td>None</td>\n",
       "        <td>None</td>\n",
       "        <td>None</td>\n",
       "        <td>None</td>\n",
       "    </tr>\n",
       "</table>"
      ],
      "text/plain": [
       "[(589556, 'Fenix 3', '6/5/19 10:45', None, None, None, None),\n",
       " (586196, 'Fenix 3', '6/2/19 11:11', None, None, None, None),\n",
       " (797091, 'Fenix 2', '11/23/19 17:36', None, None, None, None),\n",
       " (552403, 'Fenix Radio +3', '5/12/19 10:20', None, None, None, None),\n",
       " (812210, 'Fenix Power 4 + Woofer BJ', '12/4/19 10:53', None, None, None, None)]"
      ]
     },
     "execution_count": 37,
     "metadata": {},
     "output_type": "execute_result"
    }
   ],
   "source": [
    "%%sql\n",
    "\n",
    "select * from sales limit 5"
   ]
  },
  {
   "cell_type": "code",
   "execution_count": 38,
   "metadata": {},
   "outputs": [
    {
     "name": "stdout",
     "output_type": "stream",
     "text": [
      " * sqlite:///testdb.sqlite\n",
      "Done.\n"
     ]
    },
    {
     "data": {
      "text/html": [
       "<table>\n",
       "    <tr>\n",
       "        <th>loan_id</th>\n",
       "        <th>customer_id</th>\n",
       "        <th>daily_rate</th>\n",
       "        <th>days_elapsed</th>\n",
       "        <th>days_til_lockout</th>\n",
       "        <th>total_paid</th>\n",
       "    </tr>\n",
       "    <tr>\n",
       "        <td>589556</td>\n",
       "        <td>1351176</td>\n",
       "        <td>270</td>\n",
       "        <td>265</td>\n",
       "        <td>-13</td>\n",
       "        <td>52355</td>\n",
       "    </tr>\n",
       "    <tr>\n",
       "        <td>586196</td>\n",
       "        <td>1344957</td>\n",
       "        <td>160</td>\n",
       "        <td>268</td>\n",
       "        <td>-46</td>\n",
       "        <td>24160</td>\n",
       "    </tr>\n",
       "    <tr>\n",
       "        <td>797091</td>\n",
       "        <td>1794153</td>\n",
       "        <td>130</td>\n",
       "        <td>94</td>\n",
       "        <td>6</td>\n",
       "        <td>11000</td>\n",
       "    </tr>\n",
       "    <tr>\n",
       "        <td>552403</td>\n",
       "        <td>1291070</td>\n",
       "        <td>175</td>\n",
       "        <td>225</td>\n",
       "        <td>-120</td>\n",
       "        <td>13825</td>\n",
       "    </tr>\n",
       "    <tr>\n",
       "        <td>812210</td>\n",
       "        <td>1827368</td>\n",
       "        <td>280</td>\n",
       "        <td>83</td>\n",
       "        <td>5</td>\n",
       "        <td>23000</td>\n",
       "    </tr>\n",
       "</table>"
      ],
      "text/plain": [
       "[(589556, 1351176, 270, 265, -13, 52355),\n",
       " (586196, 1344957, 160, 268, -46, 24160),\n",
       " (797091, 1794153, 130, 94, 6, 11000),\n",
       " (552403, 1291070, 175, 225, -120, 13825),\n",
       " (812210, 1827368, 280, 83, 5, 23000)]"
      ]
     },
     "execution_count": 38,
     "metadata": {},
     "output_type": "execute_result"
    }
   ],
   "source": [
    "%%sql\n",
    "\n",
    "select * from loans limit 5"
   ]
  },
  {
   "cell_type": "markdown",
   "metadata": {},
   "source": [
    "### Write a SQL code to determine the total number of loans on the one hand and the total number of customers on the other"
   ]
  },
  {
   "cell_type": "code",
   "execution_count": 39,
   "metadata": {},
   "outputs": [
    {
     "name": "stdout",
     "output_type": "stream",
     "text": [
      " * sqlite:///testdb.sqlite\n",
      "Done.\n"
     ]
    },
    {
     "data": {
      "text/html": [
       "<table>\n",
       "    <tr>\n",
       "        <th>number_of_loans</th>\n",
       "        <th>number_of_customers</th>\n",
       "    </tr>\n",
       "    <tr>\n",
       "        <td>5000</td>\n",
       "        <td>5000</td>\n",
       "    </tr>\n",
       "</table>"
      ],
      "text/plain": [
       "[(5000, 5000)]"
      ]
     },
     "execution_count": 39,
     "metadata": {},
     "output_type": "execute_result"
    }
   ],
   "source": [
    "%%sql\n",
    "--# each loan has a unique id (loan_id), a count of the ids will indicate total number of loans, \n",
    "--# same goes for number of customers\n",
    "select count(loan_id) number_of_loans, count(customer_id) number_of_customers\n",
    "from loans"
   ]
  },
  {
   "cell_type": "markdown",
   "metadata": {},
   "source": [
    "### Write a SQL code to determine the total number of loans by type of kit"
   ]
  },
  {
   "cell_type": "code",
   "execution_count": 40,
   "metadata": {},
   "outputs": [
    {
     "name": "stdout",
     "output_type": "stream",
     "text": [
      " * sqlite:///testdb.sqlite\n",
      "Done.\n"
     ]
    },
    {
     "data": {
      "text/html": [
       "<table>\n",
       "    <tr>\n",
       "        <th>type_of_kit</th>\n",
       "        <th>number_of_loans</th>\n",
       "    </tr>\n",
       "    <tr>\n",
       "        <td>Fenix Radio +3</td>\n",
       "        <td>1791</td>\n",
       "    </tr>\n",
       "    <tr>\n",
       "        <td>Fenix 3</td>\n",
       "        <td>974</td>\n",
       "    </tr>\n",
       "    <tr>\n",
       "        <td>Fenix 2</td>\n",
       "        <td>841</td>\n",
       "    </tr>\n",
       "    <tr>\n",
       "        <td>Fenix Power TV 24in FTA BJ</td>\n",
       "        <td>634</td>\n",
       "    </tr>\n",
       "    <tr>\n",
       "        <td>Fenix Radio +5</td>\n",
       "        <td>422</td>\n",
       "    </tr>\n",
       "    <tr>\n",
       "        <td>Fenix Power TV 24in FTA Upgrade, BJ</td>\n",
       "        <td>177</td>\n",
       "    </tr>\n",
       "    <tr>\n",
       "        <td>Fenix Power 4 + Woofer BJ</td>\n",
       "        <td>35</td>\n",
       "    </tr>\n",
       "    <tr>\n",
       "        <td>Fenix Woofer +3</td>\n",
       "        <td>32</td>\n",
       "    </tr>\n",
       "    <tr>\n",
       "        <td>Fenix Power TV 19in FTA Upgrade, BJ</td>\n",
       "        <td>28</td>\n",
       "    </tr>\n",
       "    <tr>\n",
       "        <td>Fenix Power 2+ Tondeuse</td>\n",
       "        <td>18</td>\n",
       "    </tr>\n",
       "    <tr>\n",
       "        <td>Hors Garantie BJ</td>\n",
       "        <td>14</td>\n",
       "    </tr>\n",
       "    <tr>\n",
       "        <td>Fenix Power TV 19in FTA BJ</td>\n",
       "        <td>14</td>\n",
       "    </tr>\n",
       "    <tr>\n",
       "        <td>Fenix Woofer +3 (NEW)</td>\n",
       "        <td>8</td>\n",
       "    </tr>\n",
       "    <tr>\n",
       "        <td>Upgrade Fenix Radio +3</td>\n",
       "        <td>5</td>\n",
       "    </tr>\n",
       "    <tr>\n",
       "        <td>Upgrade Fenix Woofer+2 BJ</td>\n",
       "        <td>2</td>\n",
       "    </tr>\n",
       "    <tr>\n",
       "        <td>Upgrade Fenix Boost 2 + Tondeuse</td>\n",
       "        <td>2</td>\n",
       "    </tr>\n",
       "    <tr>\n",
       "        <td>Out-of-warranty swap - SmartLife</td>\n",
       "        <td>2</td>\n",
       "    </tr>\n",
       "    <tr>\n",
       "        <td>Upgrade Fenix Woofer +1</td>\n",
       "        <td>1</td>\n",
       "    </tr>\n",
       "</table>"
      ],
      "text/plain": [
       "[('Fenix Radio +3', 1791),\n",
       " ('Fenix 3', 974),\n",
       " ('Fenix 2', 841),\n",
       " ('Fenix Power TV 24in FTA BJ', 634),\n",
       " ('Fenix Radio +5', 422),\n",
       " ('Fenix Power TV 24in FTA Upgrade, BJ', 177),\n",
       " ('Fenix Power 4 + Woofer BJ', 35),\n",
       " ('Fenix Woofer +3', 32),\n",
       " ('Fenix Power TV 19in FTA Upgrade, BJ', 28),\n",
       " ('Fenix Power 2+ Tondeuse', 18),\n",
       " ('Hors Garantie BJ', 14),\n",
       " ('Fenix Power TV 19in FTA BJ', 14),\n",
       " ('Fenix Woofer +3 (NEW)', 8),\n",
       " ('Upgrade Fenix Radio +3', 5),\n",
       " ('Upgrade Fenix Woofer+2 BJ', 2),\n",
       " ('Upgrade Fenix Boost 2 + Tondeuse', 2),\n",
       " ('Out-of-warranty swap - SmartLife', 2),\n",
       " ('Upgrade Fenix Woofer +1', 1)]"
      ]
     },
     "execution_count": 40,
     "metadata": {},
     "output_type": "execute_result"
    }
   ],
   "source": [
    "%%sql\n",
    "\n",
    "select s.product_type type_of_kit, count(l.loan_id) number_of_loans\n",
    "from loans as l\n",
    "join sales as s on l.loan_id = s.loan_id \n",
    "group by s.product_type\n",
    "order by count(l.loan_id) desc"
   ]
  },
  {
   "cell_type": "markdown",
   "metadata": {},
   "source": [
    "### Write SQL code to determine the number of inactive loans"
   ]
  },
  {
   "cell_type": "code",
   "execution_count": 41,
   "metadata": {},
   "outputs": [
    {
     "name": "stdout",
     "output_type": "stream",
     "text": [
      " * sqlite:///testdb.sqlite\n",
      "Done.\n"
     ]
    },
    {
     "data": {
      "text/html": [
       "<table>\n",
       "    <tr>\n",
       "        <th>no_of_inactive_loans</th>\n",
       "    </tr>\n",
       "    <tr>\n",
       "        <td>626</td>\n",
       "    </tr>\n",
       "</table>"
      ],
      "text/plain": [
       "[(626,)]"
      ]
     },
     "execution_count": 41,
     "metadata": {},
     "output_type": "execute_result"
    }
   ],
   "source": [
    "%%sql\n",
    "--# inactive loans are indicated by 30 days or more in the dark\n",
    "\n",
    "select count(loan_id) no_of_inactive_loans\n",
    "from loans\n",
    "where days_til_lockout < -30"
   ]
  },
  {
   "cell_type": "markdown",
   "metadata": {},
   "source": [
    "### Write a SQL code to determine the regions where the total amount of payments exceeds 1,000,000"
   ]
  },
  {
   "cell_type": "code",
   "execution_count": 42,
   "metadata": {},
   "outputs": [
    {
     "name": "stdout",
     "output_type": "stream",
     "text": [
      " * sqlite:///testdb.sqlite\n",
      "Done.\n"
     ]
    },
    {
     "data": {
      "text/html": [
       "<table>\n",
       "    <tr>\n",
       "        <th>region</th>\n",
       "        <th>total_payments</th>\n",
       "    </tr>\n",
       "    <tr>\n",
       "        <td>Atlantique</td>\n",
       "        <td>51293780</td>\n",
       "    </tr>\n",
       "    <tr>\n",
       "        <td>Oueme</td>\n",
       "        <td>30027194</td>\n",
       "    </tr>\n",
       "    <tr>\n",
       "        <td>Borgou</td>\n",
       "        <td>18947292</td>\n",
       "    </tr>\n",
       "    <tr>\n",
       "        <td>Collines</td>\n",
       "        <td>11904427</td>\n",
       "    </tr>\n",
       "    <tr>\n",
       "        <td>Mono</td>\n",
       "        <td>11621621</td>\n",
       "    </tr>\n",
       "    <tr>\n",
       "        <td>Donga</td>\n",
       "        <td>9936982</td>\n",
       "    </tr>\n",
       "    <tr>\n",
       "        <td>Plateau</td>\n",
       "        <td>9691206</td>\n",
       "    </tr>\n",
       "    <tr>\n",
       "        <td>Zou</td>\n",
       "        <td>9540211</td>\n",
       "    </tr>\n",
       "    <tr>\n",
       "        <td>Alibori</td>\n",
       "        <td>8559985</td>\n",
       "    </tr>\n",
       "    <tr>\n",
       "        <td>Atacora</td>\n",
       "        <td>7802685</td>\n",
       "    </tr>\n",
       "    <tr>\n",
       "        <td>Couffo</td>\n",
       "        <td>4812070</td>\n",
       "    </tr>\n",
       "    <tr>\n",
       "        <td>Littoral</td>\n",
       "        <td>3980519</td>\n",
       "    </tr>\n",
       "</table>"
      ],
      "text/plain": [
       "[('Atlantique', 51293780),\n",
       " ('Oueme', 30027194),\n",
       " ('Borgou', 18947292),\n",
       " ('Collines', 11904427),\n",
       " ('Mono', 11621621),\n",
       " ('Donga', 9936982),\n",
       " ('Plateau', 9691206),\n",
       " ('Zou', 9540211),\n",
       " ('Alibori', 8559985),\n",
       " ('Atacora', 7802685),\n",
       " ('Couffo', 4812070),\n",
       " ('Littoral', 3980519)]"
      ]
     },
     "execution_count": 42,
     "metadata": {},
     "output_type": "execute_result"
    }
   ],
   "source": [
    "%%sql\n",
    "\n",
    "select p.region, sum(l.total_paid) total_payments\n",
    "from persons as p\n",
    "join loans as l on p.customer_id = l.customer_id \n",
    "group by p.region\n",
    "having sum(l.total_paid) > 1000000\n",
    "order by sum(l.total_paid) desc"
   ]
  },
  {
   "cell_type": "markdown",
   "metadata": {},
   "source": [
    "### Write a SQL code to classify by region and in ascending order, the loans according to the total amount paid"
   ]
  },
  {
   "cell_type": "code",
   "execution_count": 43,
   "metadata": {},
   "outputs": [
    {
     "name": "stdout",
     "output_type": "stream",
     "text": [
      " * sqlite:///testdb.sqlite\n",
      "Done.\n"
     ]
    },
    {
     "data": {
      "text/html": [
       "<table>\n",
       "    <tr>\n",
       "        <th>region</th>\n",
       "        <th>sum_of_total_paid</th>\n",
       "    </tr>\n",
       "    <tr>\n",
       "        <td>Littoral</td>\n",
       "        <td>3980519</td>\n",
       "    </tr>\n",
       "    <tr>\n",
       "        <td>Couffo</td>\n",
       "        <td>4812070</td>\n",
       "    </tr>\n",
       "    <tr>\n",
       "        <td>Atacora</td>\n",
       "        <td>7802685</td>\n",
       "    </tr>\n",
       "    <tr>\n",
       "        <td>Alibori</td>\n",
       "        <td>8559985</td>\n",
       "    </tr>\n",
       "    <tr>\n",
       "        <td>Zou</td>\n",
       "        <td>9540211</td>\n",
       "    </tr>\n",
       "    <tr>\n",
       "        <td>Plateau</td>\n",
       "        <td>9691206</td>\n",
       "    </tr>\n",
       "    <tr>\n",
       "        <td>Donga</td>\n",
       "        <td>9936982</td>\n",
       "    </tr>\n",
       "    <tr>\n",
       "        <td>Mono</td>\n",
       "        <td>11621621</td>\n",
       "    </tr>\n",
       "    <tr>\n",
       "        <td>Collines</td>\n",
       "        <td>11904427</td>\n",
       "    </tr>\n",
       "    <tr>\n",
       "        <td>Borgou</td>\n",
       "        <td>18947292</td>\n",
       "    </tr>\n",
       "    <tr>\n",
       "        <td>Oueme</td>\n",
       "        <td>30027194</td>\n",
       "    </tr>\n",
       "    <tr>\n",
       "        <td>Atlantique</td>\n",
       "        <td>51293780</td>\n",
       "    </tr>\n",
       "</table>"
      ],
      "text/plain": [
       "[('Littoral', 3980519),\n",
       " ('Couffo', 4812070),\n",
       " ('Atacora', 7802685),\n",
       " ('Alibori', 8559985),\n",
       " ('Zou', 9540211),\n",
       " ('Plateau', 9691206),\n",
       " ('Donga', 9936982),\n",
       " ('Mono', 11621621),\n",
       " ('Collines', 11904427),\n",
       " ('Borgou', 18947292),\n",
       " ('Oueme', 30027194),\n",
       " ('Atlantique', 51293780)]"
      ]
     },
     "execution_count": 43,
     "metadata": {},
     "output_type": "execute_result"
    }
   ],
   "source": [
    "%%sql\n",
    "\n",
    "select p.region, sum(l.total_paid) sum_of_total_paid \n",
    "from persons as p\n",
    "join loans as l on p.customer_id = l.customer_id \n",
    "group by p.region\n",
    "order by sum(l.total_paid) asc"
   ]
  },
  {
   "cell_type": "markdown",
   "metadata": {},
   "source": [
    "\n",
    "### Write a SQL code to determine the top 10 occupations by region with the highest total amount of payments"
   ]
  },
  {
   "cell_type": "code",
   "execution_count": 44,
   "metadata": {},
   "outputs": [
    {
     "name": "stdout",
     "output_type": "stream",
     "text": [
      " * sqlite:///testdb.sqlite\n",
      "Done.\n"
     ]
    },
    {
     "data": {
      "text/html": [
       "<table>\n",
       "    <tr>\n",
       "        <th>cid</th>\n",
       "        <th>name</th>\n",
       "        <th>type</th>\n",
       "        <th>notnull</th>\n",
       "        <th>dflt_value</th>\n",
       "        <th>pk</th>\n",
       "    </tr>\n",
       "    <tr>\n",
       "        <td>0</td>\n",
       "        <td>customer_id</td>\n",
       "        <td>INTEGER</td>\n",
       "        <td>0</td>\n",
       "        <td>None</td>\n",
       "        <td>0</td>\n",
       "    </tr>\n",
       "    <tr>\n",
       "        <td>1</td>\n",
       "        <td>country</td>\n",
       "        <td>TEXT</td>\n",
       "        <td>0</td>\n",
       "        <td>None</td>\n",
       "        <td>0</td>\n",
       "    </tr>\n",
       "    <tr>\n",
       "        <td>2</td>\n",
       "        <td>region</td>\n",
       "        <td>TEXT</td>\n",
       "        <td>0</td>\n",
       "        <td>None</td>\n",
       "        <td>0</td>\n",
       "    </tr>\n",
       "    <tr>\n",
       "        <td>3</td>\n",
       "        <td>occupation</td>\n",
       "        <td>TEXT</td>\n",
       "        <td>0</td>\n",
       "        <td>None</td>\n",
       "        <td>0</td>\n",
       "    </tr>\n",
       "</table>"
      ],
      "text/plain": [
       "[(0, 'customer_id', 'INTEGER', 0, None, 0),\n",
       " (1, 'country', 'TEXT', 0, None, 0),\n",
       " (2, 'region', 'TEXT', 0, None, 0),\n",
       " (3, 'occupation', 'TEXT', 0, None, 0)]"
      ]
     },
     "execution_count": 44,
     "metadata": {},
     "output_type": "execute_result"
    }
   ],
   "source": [
    "%%sql\n",
    "pragma table_info('persons');"
   ]
  },
  {
   "cell_type": "code",
   "execution_count": 45,
   "metadata": {},
   "outputs": [
    {
     "name": "stdout",
     "output_type": "stream",
     "text": [
      " * sqlite:///testdb.sqlite\n",
      "Done.\n"
     ]
    },
    {
     "data": {
      "text/html": [
       "<table>\n",
       "    <tr>\n",
       "        <th>occupation</th>\n",
       "        <th>region</th>\n",
       "        <th>sum(l.total_paid)</th>\n",
       "    </tr>\n",
       "    <tr>\n",
       "        <td>Tehnician</td>\n",
       "        <td>Atlantique</td>\n",
       "        <td>51293780</td>\n",
       "    </tr>\n",
       "    <tr>\n",
       "        <td>Tehnician</td>\n",
       "        <td>Oueme</td>\n",
       "        <td>30027194</td>\n",
       "    </tr>\n",
       "    <tr>\n",
       "        <td>Ingenieur</td>\n",
       "        <td>Borgou</td>\n",
       "        <td>18947292</td>\n",
       "    </tr>\n",
       "    <tr>\n",
       "        <td>Tehnician</td>\n",
       "        <td>Collines</td>\n",
       "        <td>11904427</td>\n",
       "    </tr>\n",
       "    <tr>\n",
       "        <td>Farmer</td>\n",
       "        <td>Mono</td>\n",
       "        <td>11621621</td>\n",
       "    </tr>\n",
       "    <tr>\n",
       "        <td>Teacher</td>\n",
       "        <td>Donga</td>\n",
       "        <td>9936982</td>\n",
       "    </tr>\n",
       "    <tr>\n",
       "        <td>Nurse</td>\n",
       "        <td>Plateau</td>\n",
       "        <td>9691206</td>\n",
       "    </tr>\n",
       "    <tr>\n",
       "        <td>Doctor</td>\n",
       "        <td>Zou</td>\n",
       "        <td>9540211</td>\n",
       "    </tr>\n",
       "    <tr>\n",
       "        <td>Doctor</td>\n",
       "        <td>Alibori</td>\n",
       "        <td>8559985</td>\n",
       "    </tr>\n",
       "    <tr>\n",
       "        <td>Farmer</td>\n",
       "        <td>Atacora</td>\n",
       "        <td>7802685</td>\n",
       "    </tr>\n",
       "</table>"
      ],
      "text/plain": [
       "[('Tehnician', 'Atlantique', 51293780),\n",
       " ('Tehnician', 'Oueme', 30027194),\n",
       " ('Ingenieur', 'Borgou', 18947292),\n",
       " ('Tehnician', 'Collines', 11904427),\n",
       " ('Farmer', 'Mono', 11621621),\n",
       " ('Teacher', 'Donga', 9936982),\n",
       " ('Nurse', 'Plateau', 9691206),\n",
       " ('Doctor', 'Zou', 9540211),\n",
       " ('Doctor', 'Alibori', 8559985),\n",
       " ('Farmer', 'Atacora', 7802685)]"
      ]
     },
     "execution_count": 45,
     "metadata": {},
     "output_type": "execute_result"
    }
   ],
   "source": [
    "%%sql\n",
    "select p.occupation, p.region, sum(l.total_paid)\n",
    "from persons as p\n",
    "join loans as l on p.customer_id = l.customer_id\n",
    "group by p.region\n",
    "order by sum(l.total_paid) desc\n",
    "limit 10"
   ]
  }
 ],
 "metadata": {
  "kernelspec": {
   "display_name": "Python 3",
   "language": "python",
   "name": "python3"
  },
  "language_info": {
   "codemirror_mode": {
    "name": "ipython",
    "version": 3
   },
   "file_extension": ".py",
   "mimetype": "text/x-python",
   "name": "python",
   "nbconvert_exporter": "python",
   "pygments_lexer": "ipython3",
   "version": "3.7.4"
  }
 },
 "nbformat": 4,
 "nbformat_minor": 4
}
